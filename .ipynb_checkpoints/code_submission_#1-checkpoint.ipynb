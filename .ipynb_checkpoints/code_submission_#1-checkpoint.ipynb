{
 "cells": [
  {
   "cell_type": "markdown",
   "metadata": {},
   "source": [
    "# 3D Point Cloud Model of COVID-19"
   ]
  },
  {
   "cell_type": "markdown",
   "metadata": {},
   "source": [
    "This project will create a 3D point cloud visualization model of the COVID-19 pandemic. The model will focus on modeling the global spatial patterns along with the statistics of different types of live cases for each country by thousands or even millions of georeferenced points."
   ]
  },
  {
   "cell_type": "markdown",
   "metadata": {},
   "source": [
    "### Preparation"
   ]
  },
  {
   "cell_type": "markdown",
   "metadata": {},
   "source": [
    "- Packages/Modules Installation"
   ]
  },
  {
   "cell_type": "markdown",
   "metadata": {},
   "source": [
    "- Change file path on your computer\n",
    "> `output` \n",
    "\n",
    "> `land.to_file`"
   ]
  },
  {
   "cell_type": "code",
   "execution_count": null,
   "metadata": {},
   "outputs": [],
   "source": []
  },
  {
   "cell_type": "code",
   "execution_count": null,
   "metadata": {},
   "outputs": [],
   "source": []
  },
  {
   "cell_type": "code",
   "execution_count": null,
   "metadata": {},
   "outputs": [],
   "source": [
    "import arcpy\n",
    "import geopandas as gpd\n",
    "import json\n",
    "from math import cos, sin, pi\n",
    "import open3d as o3d"
   ]
  },
  {
   "cell_type": "markdown",
   "metadata": {},
   "source": [
    "## Step 1: Land Mask Data"
   ]
  },
  {
   "cell_type": "code",
   "execution_count": null,
   "metadata": {},
   "outputs": [],
   "source": [
    "# create fishnet points\n",
    "output = r'E:\\GIS5578\\CourseProject\\LANDCOVER\\fishnet'\n",
    "\n",
    "origin_coord = '-180 -90'\n",
    "y_axis_coord = '-180 -89'\n",
    "\n",
    "cell_width = 1\n",
    "cell_height = 1\n",
    "\n",
    "num_rows = None\n",
    "num_cols = None\n",
    "\n",
    "corner_coord = '180 90'\n",
    "\n",
    "labels = 'LABELS'\n",
    "\n",
    "# execute the geoprocessing tool\n",
    "arcpy.management.CreateFishnet(output, origin_coord, y_axis_coord,\n",
    "                              cell_width, cell_height, num_rows, num_cols,\n",
    "                              corner_coord, labels)\n"
   ]
  },
  {
   "cell_type": "code",
   "execution_count": null,
   "metadata": {},
   "outputs": [],
   "source": [
    "# load shapefiles and create geopandas dataframes\n",
    "points = gpd.read_file('fishnet_label.shp')\n",
    "polygons = gpd.read_file('World_Countries_(Generalized)/World_Countries_(Generalized).shp')\n",
    "\n",
    "# use the same coordinate reference system\n",
    "points = points.set_crs('EPSG:4326')\n",
    "polygons = polygons.to_crs('EPSG:4326')\n"
   ]
  },
  {
   "cell_type": "code",
   "execution_count": null,
   "metadata": {},
   "outputs": [],
   "source": [
    "# spatial join\n",
    "land = gpd.sjoin(points, polygons, how='inner', op='intersects')\n",
    "land = land.drop(columns=['Id', 'index_right'])"
   ]
  },
  {
   "cell_type": "code",
   "execution_count": null,
   "metadata": {},
   "outputs": [],
   "source": [
    "# write geojson\n",
    "land.to_file('land.geojson', driver='GeoJSON')"
   ]
  },
  {
   "cell_type": "markdown",
   "metadata": {},
   "source": [
    "## Step 2: COVID-19 Data"
   ]
  },
  {
   "cell_type": "code",
   "execution_count": null,
   "metadata": {},
   "outputs": [],
   "source": []
  },
  {
   "cell_type": "code",
   "execution_count": null,
   "metadata": {},
   "outputs": [],
   "source": []
  },
  {
   "cell_type": "markdown",
   "metadata": {},
   "source": [
    "## Step 3: Model Development\n",
    "- docstring???"
   ]
  },
  {
   "cell_type": "code",
   "execution_count": null,
   "metadata": {},
   "outputs": [],
   "source": [
    "# convert lon/lat to x/y/z\n",
    "def coords_conversion(lon, lat, depth):\n",
    "    # center\n",
    "    O = [0, 0, 0]\n",
    "    # Radius\n",
    "    R = 6400\n",
    "    # Scale\n",
    "    S = 0.01\n",
    "    # Depth exageration\n",
    "    D = 3\n",
    "    \n",
    "    # calculate the radian of the sphere\n",
    "    rad_lat, rad_lon = lat * pi / 180, lon * pi / 180\n",
    "    \n",
    "    # calculate the cartesian coordiantes of each point\n",
    "    x = O[0] + S * (R-D*depth) * cos(rad_lat) * cos(rad_lon)\n",
    "    y = O[1] + S * (R-D*depth) * cos(rad_lat) * sin(rad_lon)\n",
    "    z = O[2] + S * (R-D*depth) * sin(rad_lat)\n",
    "\n",
    "    return (x, y, z)"
   ]
  },
  {
   "cell_type": "code",
   "execution_count": null,
   "metadata": {},
   "outputs": [],
   "source": [
    "# write ply file for 3D model\n",
    "def model(path):\n",
    "    with open(path, 'w') as fw:\n",
    "    # write headers in required format \n",
    "        fw.write('ply\\nformat ascii 1.0\\n')\n",
    "        fw.write('element vertex %d\\n' % len(coords))\n",
    "        fw.write('property float x\\n')\n",
    "        fw.write('property float y\\n')\n",
    "        fw.write('property float z\\n')\n",
    "\n",
    "        if len(colors) == len(coords):\n",
    "            fw.write('property uchar red\\n')\n",
    "            fw.write('property uchar green\\n')\n",
    "            fw.write('property uchar blue\\n')\n",
    "\n",
    "        fw.write('end_header\\n')\n",
    "        \n",
    "        # write data\n",
    "        # use for loop to write the elements from coords/lists to the ply file\n",
    "        # type of coords should be float, and type of colors should be integer\n",
    "        if len(colors) == len(coords):\n",
    "            for coord, color in zip(coords, colors):\n",
    "                fw.write(\"%f %f %f %d %d %d\\n\" % (\n",
    "                    coord[0],\n",
    "                    coord[1],\n",
    "                    coord[2],\n",
    "                    color[0],\n",
    "                    color[1],\n",
    "                    color[2]\n",
    "                    ))\n",
    "        else:\n",
    "            for coord in coords:\n",
    "                fw.write(\"%f %f %f\\n\" % (\n",
    "                    coord[0],\n",
    "                    coord[1],\n",
    "                    coord[2]\n",
    "                    ))\n",
    "        print('##### PLY model created #####')\n"
   ]
  },
  {
   "cell_type": "code",
   "execution_count": null,
   "metadata": {},
   "outputs": [],
   "source": [
    "# read geojson and store in the variable\n",
    "with open('land.geojson') as f:\n",
    "    data = json.load(f)\n",
    "    \n",
    "# extract values of the 'features' key\n",
    "features = data['features']\n",
    "\n",
    "## retrieve lons/lats from geojson\n",
    "lons = []\n",
    "lats = []\n",
    "for feature in features:\n",
    "    geometry = feature['geometry']\n",
    "    coord = geometry['coordinates']\n",
    "    lats.append(coord[0])\n",
    "    lons.append(coord[1])"
   ]
  },
  {
   "cell_type": "code",
   "execution_count": null,
   "metadata": {},
   "outputs": [],
   "source": [
    "# store coords and colors for the model\n",
    "coords = []\n",
    "colors = []\n",
    "\n",
    "# write lists for land mask points\n",
    "coords.extend([ coords_conversion(lat, lon, 0) for lon, lat in zip(lons, lats) ]) \n",
    "colors.extend([ (192,192,192) for x in lats ])"
   ]
  },
  {
   "cell_type": "code",
   "execution_count": null,
   "metadata": {},
   "outputs": [],
   "source": [
    "# create land(base) model\n",
    "model('model_test1.ply')"
   ]
  },
  {
   "cell_type": "code",
   "execution_count": null,
   "metadata": {},
   "outputs": [],
   "source": [
    "# read and display model\n",
    "PC = o3d.io.read_point_cloud('model_test1.ply')\n",
    "o3d.visualization.draw_geometries([PC])"
   ]
  },
  {
   "cell_type": "markdown",
   "metadata": {},
   "source": [
    "## Step 4: Model Advanced Properties"
   ]
  },
  {
   "cell_type": "code",
   "execution_count": null,
   "metadata": {},
   "outputs": [],
   "source": []
  },
  {
   "cell_type": "code",
   "execution_count": null,
   "metadata": {},
   "outputs": [],
   "source": []
  }
 ],
 "metadata": {
  "kernelspec": {
   "display_name": "Python 3",
   "language": "python",
   "name": "python3"
  },
  "language_info": {
   "codemirror_mode": {
    "name": "ipython",
    "version": 3
   },
   "file_extension": ".py",
   "mimetype": "text/x-python",
   "name": "python",
   "nbconvert_exporter": "python",
   "pygments_lexer": "ipython3",
   "version": "3.7.6"
  }
 },
 "nbformat": 4,
 "nbformat_minor": 4
}
