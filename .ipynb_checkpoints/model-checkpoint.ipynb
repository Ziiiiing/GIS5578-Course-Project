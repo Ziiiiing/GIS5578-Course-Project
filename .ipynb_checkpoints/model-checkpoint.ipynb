{
 "cells": [
  {
   "cell_type": "markdown",
   "metadata": {},
   "source": [
    "### THINK LATER:\n",
    "\n",
    "- find another land polygon with sub-national attributes\n",
    "- coords_conversion details "
   ]
  },
  {
   "cell_type": "code",
   "execution_count": null,
   "metadata": {},
   "outputs": [],
   "source": [
    "# pip install netCDF4"
   ]
  },
  {
   "cell_type": "code",
   "execution_count": null,
   "metadata": {},
   "outputs": [],
   "source": [
    "# import open3d.ml.torch as ml3d"
   ]
  },
  {
   "cell_type": "code",
   "execution_count": 1,
   "metadata": {},
   "outputs": [
    {
     "name": "stdout",
     "output_type": "stream",
     "text": [
      "Collecting vtk\n",
      "  Downloading vtk-9.0.1-cp37-cp37m-win_amd64.whl (38.4 MB)\n",
      "Installing collected packages: vtk\n",
      "Successfully installed vtk-9.0.1\n",
      "Note: you may need to restart the kernel to use updated packages.\n"
     ]
    }
   ],
   "source": [
    "# pip install vtk "
   ]
  },
  {
   "cell_type": "code",
   "execution_count": 1,
   "metadata": {},
   "outputs": [],
   "source": [
    "#import netCDF4          # read .nc file\n",
    "import open3d as o3d    # display model\n",
    "# import numpy as np      # retrieve lon/lat for land mas from landmask.nc\n",
    "from math import cos, sin, pi  # crs convertion 2d -> 3d\n",
    "from matplotlib import cm      # plot color for points stored in ply file\n",
    "\n",
    "import geopandas as gpd  # create land points with attr. from polygon: sjoin\n",
    "\n",
    "# import arcpy  # fishnet -> point grid"
   ]
  },
  {
   "cell_type": "code",
   "execution_count": 16,
   "metadata": {},
   "outputs": [],
   "source": [
    "import json # read land points from local json"
   ]
  },
  {
   "cell_type": "markdown",
   "metadata": {},
   "source": [
    "## Fishnet points"
   ]
  },
  {
   "cell_type": "code",
   "execution_count": null,
   "metadata": {},
   "outputs": [],
   "source": [
    "output = r'E:\\GIS5578\\CourseProject\\LANDCOVER\\fishnet'\n",
    "\n",
    "origin_coord = '-180 -90'\n",
    "y_axis_coord = '-180 -89'\n",
    "\n",
    "cell_width = 1\n",
    "cell_height = 1\n",
    "\n",
    "num_rows = None\n",
    "num_cols = None\n",
    "\n",
    "corner_coord = '180 90'\n",
    "\n",
    "labels = 'LABELS'\n",
    "\n",
    "\n",
    "# execute the geoprocessing tool\n",
    "arcpy.management.CreateFishnet(output, origin_coord, y_axis_coord,\n",
    "                              cell_width, cell_height, num_rows, num_cols,\n",
    "                              corner_coord, labels)\n"
   ]
  },
  {
   "cell_type": "markdown",
   "metadata": {},
   "source": [
    "## LANDMASK DATA"
   ]
  },
  {
   "cell_type": "code",
   "execution_count": 2,
   "metadata": {},
   "outputs": [],
   "source": [
    "# load points shapefile\n",
    "points = gpd.read_file('fishnet_label.shp')\n",
    "\n",
    "# set projection\n",
    "points = points.set_crs('EPSG:4326')\n",
    "\n",
    "# check projection\n",
    "# points.crs"
   ]
  },
  {
   "cell_type": "code",
   "execution_count": 3,
   "metadata": {},
   "outputs": [],
   "source": [
    "# load polygons shapefile\n",
    "polygons = gpd.read_file('World_Countries_(Generalized)/World_Countries_(Generalized).shp')\n",
    "\n",
    "# re-projection\n",
    "polygons = polygons.to_crs('EPSG:4326')\n",
    "\n",
    "# check projection\n",
    "# polygons.crs"
   ]
  },
  {
   "cell_type": "code",
   "execution_count": 4,
   "metadata": {},
   "outputs": [],
   "source": [
    "# spatial join\n",
    "land = gpd.sjoin(points, polygons, how='inner', op='intersects')"
   ]
  },
  {
   "cell_type": "code",
   "execution_count": 7,
   "metadata": {},
   "outputs": [
    {
     "data": {
      "text/html": [
       "<div>\n",
       "<style scoped>\n",
       "    .dataframe tbody tr th:only-of-type {\n",
       "        vertical-align: middle;\n",
       "    }\n",
       "\n",
       "    .dataframe tbody tr th {\n",
       "        vertical-align: top;\n",
       "    }\n",
       "\n",
       "    .dataframe thead th {\n",
       "        text-align: right;\n",
       "    }\n",
       "</style>\n",
       "<table border=\"1\" class=\"dataframe\">\n",
       "  <thead>\n",
       "    <tr style=\"text-align: right;\">\n",
       "      <th></th>\n",
       "      <th>geometry</th>\n",
       "      <th>COUNTRY</th>\n",
       "      <th>ISO</th>\n",
       "      <th>COUNTRYAFF</th>\n",
       "      <th>AFF_ISO</th>\n",
       "    </tr>\n",
       "  </thead>\n",
       "  <tbody>\n",
       "    <tr>\n",
       "      <th>360</th>\n",
       "      <td>POINT (-179.50000 -88.50000)</td>\n",
       "      <td>Antarctica</td>\n",
       "      <td>AQ</td>\n",
       "      <td>Antarctica</td>\n",
       "      <td>AQ</td>\n",
       "    </tr>\n",
       "    <tr>\n",
       "      <th>361</th>\n",
       "      <td>POINT (-178.50000 -88.50000)</td>\n",
       "      <td>Antarctica</td>\n",
       "      <td>AQ</td>\n",
       "      <td>Antarctica</td>\n",
       "      <td>AQ</td>\n",
       "    </tr>\n",
       "    <tr>\n",
       "      <th>362</th>\n",
       "      <td>POINT (-177.50000 -88.50000)</td>\n",
       "      <td>Antarctica</td>\n",
       "      <td>AQ</td>\n",
       "      <td>Antarctica</td>\n",
       "      <td>AQ</td>\n",
       "    </tr>\n",
       "    <tr>\n",
       "      <th>363</th>\n",
       "      <td>POINT (-176.50000 -88.50000)</td>\n",
       "      <td>Antarctica</td>\n",
       "      <td>AQ</td>\n",
       "      <td>Antarctica</td>\n",
       "      <td>AQ</td>\n",
       "    </tr>\n",
       "    <tr>\n",
       "      <th>364</th>\n",
       "      <td>POINT (-175.50000 -88.50000)</td>\n",
       "      <td>Antarctica</td>\n",
       "      <td>AQ</td>\n",
       "      <td>Antarctica</td>\n",
       "      <td>AQ</td>\n",
       "    </tr>\n",
       "    <tr>\n",
       "      <th>...</th>\n",
       "      <td>...</td>\n",
       "      <td>...</td>\n",
       "      <td>...</td>\n",
       "      <td>...</td>\n",
       "      <td>...</td>\n",
       "    </tr>\n",
       "    <tr>\n",
       "      <th>61041</th>\n",
       "      <td>POINT (21.50000 79.50000)</td>\n",
       "      <td>Svalbard</td>\n",
       "      <td>SJ</td>\n",
       "      <td>Norway</td>\n",
       "      <td>NO</td>\n",
       "    </tr>\n",
       "    <tr>\n",
       "      <th>61042</th>\n",
       "      <td>POINT (22.50000 79.50000)</td>\n",
       "      <td>Svalbard</td>\n",
       "      <td>SJ</td>\n",
       "      <td>Norway</td>\n",
       "      <td>NO</td>\n",
       "    </tr>\n",
       "    <tr>\n",
       "      <th>61043</th>\n",
       "      <td>POINT (23.50000 79.50000)</td>\n",
       "      <td>Svalbard</td>\n",
       "      <td>SJ</td>\n",
       "      <td>Norway</td>\n",
       "      <td>NO</td>\n",
       "    </tr>\n",
       "    <tr>\n",
       "      <th>61044</th>\n",
       "      <td>POINT (24.50000 79.50000)</td>\n",
       "      <td>Svalbard</td>\n",
       "      <td>SJ</td>\n",
       "      <td>Norway</td>\n",
       "      <td>NO</td>\n",
       "    </tr>\n",
       "    <tr>\n",
       "      <th>61045</th>\n",
       "      <td>POINT (25.50000 79.50000)</td>\n",
       "      <td>Svalbard</td>\n",
       "      <td>SJ</td>\n",
       "      <td>Norway</td>\n",
       "      <td>NO</td>\n",
       "    </tr>\n",
       "  </tbody>\n",
       "</table>\n",
       "<p>21116 rows × 5 columns</p>\n",
       "</div>"
      ],
      "text/plain": [
       "                           geometry     COUNTRY ISO  COUNTRYAFF AFF_ISO\n",
       "360    POINT (-179.50000 -88.50000)  Antarctica  AQ  Antarctica      AQ\n",
       "361    POINT (-178.50000 -88.50000)  Antarctica  AQ  Antarctica      AQ\n",
       "362    POINT (-177.50000 -88.50000)  Antarctica  AQ  Antarctica      AQ\n",
       "363    POINT (-176.50000 -88.50000)  Antarctica  AQ  Antarctica      AQ\n",
       "364    POINT (-175.50000 -88.50000)  Antarctica  AQ  Antarctica      AQ\n",
       "...                             ...         ...  ..         ...     ...\n",
       "61041     POINT (21.50000 79.50000)    Svalbard  SJ      Norway      NO\n",
       "61042     POINT (22.50000 79.50000)    Svalbard  SJ      Norway      NO\n",
       "61043     POINT (23.50000 79.50000)    Svalbard  SJ      Norway      NO\n",
       "61044     POINT (24.50000 79.50000)    Svalbard  SJ      Norway      NO\n",
       "61045     POINT (25.50000 79.50000)    Svalbard  SJ      Norway      NO\n",
       "\n",
       "[21116 rows x 5 columns]"
      ]
     },
     "execution_count": 7,
     "metadata": {},
     "output_type": "execute_result"
    }
   ],
   "source": [
    "# check dataframe\n",
    "# land"
   ]
  },
  {
   "cell_type": "code",
   "execution_count": 6,
   "metadata": {},
   "outputs": [],
   "source": [
    "# remove useless columns\n",
    "land = land.drop(columns=['Id', 'index_right'])"
   ]
  },
  {
   "cell_type": "code",
   "execution_count": 15,
   "metadata": {},
   "outputs": [],
   "source": [
    "land.to_file('land.geojson', driver='GeoJSON')"
   ]
  },
  {
   "cell_type": "markdown",
   "metadata": {},
   "source": [
    "## COVID-19 DATA"
   ]
  },
  {
   "cell_type": "code",
   "execution_count": null,
   "metadata": {},
   "outputs": [],
   "source": []
  },
  {
   "cell_type": "code",
   "execution_count": null,
   "metadata": {},
   "outputs": [],
   "source": []
  },
  {
   "cell_type": "code",
   "execution_count": null,
   "metadata": {},
   "outputs": [],
   "source": []
  },
  {
   "cell_type": "markdown",
   "metadata": {},
   "source": [
    "## MODEL DEVELOPMENT\n",
    "https://www.researchgate.net/post/What_are_the_best_libriaries_for_processing_3d_point_cloud_data_Python\n",
    "\n",
    "- 3D points plot: 3D scatterplot from Matplotlib / go.Mesh3d\n",
    "- VEDO https://github.com/marcomusy/vedo"
   ]
  },
  {
   "cell_type": "code",
   "execution_count": 22,
   "metadata": {},
   "outputs": [],
   "source": [
    "# coordinates conversion: from lon/lat to x/y/z\n",
    "\n",
    "def coords_conversion(lon, lat, depth):\n",
    "    # center\n",
    "    O = [0, 0, 0]\n",
    "    # Radius\n",
    "    R = 6400\n",
    "    # Scale\n",
    "    S = 0.01\n",
    "    # Depth exageration\n",
    "    D = 3\n",
    "    \n",
    "    # calculate the radian of the sphere\n",
    "    rad_lat, rad_lon = lat * pi / 180, lon * pi / 180\n",
    "    \n",
    "    # calculate the cartesian coordiantes of each point\n",
    "    x = O[0] + S * (R-D*depth) * cos(rad_lat) * cos(rad_lon)\n",
    "    y = O[1] + S * (R-D*depth) * cos(rad_lat) * sin(rad_lon)\n",
    "    z = O[2] + S * (R-D*depth) * sin(rad_lat)\n",
    "\n",
    "    return (x, y, z)\n"
   ]
  },
  {
   "cell_type": "code",
   "execution_count": 23,
   "metadata": {},
   "outputs": [],
   "source": [
    "# define points color\n",
    "\n",
    "def point_color(x, min_mag, max_mag, cmap = cm.autumn):                                      # ?\n",
    "    \n",
    "    # convert the input parameters from string to float\n",
    "    min_mag = float(min_mag)\n",
    "    max_mag = float(max_mag)\n",
    "    \n",
    "    # calculate the rank of the magnitude\n",
    "    ratio = (x-min_mag) / (max_mag-min_mag)\n",
    "    # calculate the value of color according to the ratio\n",
    "    rgb = cmap(int(ratio*255))\n",
    "    r = int(rgb[0]*255)\n",
    "    g = int(rgb[1]*255)\n",
    "    b = int(rgb[2]*255)\n",
    "\n",
    "    return (r, g, b)\n",
    "    print('##### EQ colored #####')"
   ]
  },
  {
   "cell_type": "code",
   "execution_count": 24,
   "metadata": {},
   "outputs": [],
   "source": [
    "# write/create 3D model \n",
    "\n",
    "def model(path):\n",
    "    with open(path, 'w') as fw:\n",
    "    # write headers in required format \n",
    "        fw.write('ply\\nformat ascii 1.0\\n')\n",
    "        fw.write('element vertex %d\\n' % len(coords))\n",
    "        fw.write('property float x\\n')\n",
    "        fw.write('property float y\\n')\n",
    "        fw.write('property float z\\n')\n",
    "\n",
    "        if len(colors) == len(coords):\n",
    "            fw.write('property uchar red\\n')\n",
    "            fw.write('property uchar green\\n')\n",
    "            fw.write('property uchar blue\\n')\n",
    "\n",
    "        fw.write('end_header\\n')\n",
    "        \n",
    "        # write data\n",
    "        # use for loop to write the elements from coords/lists to the ply file\n",
    "        # type of coords should be float, and type of colors should be integer\n",
    "        if len(colors) == len(coords):\n",
    "            for coord, color in zip(coords, colors):\n",
    "                fw.write(\"%f %f %f %d %d %d\\n\" % (\n",
    "                    coord[0],\n",
    "                    coord[1],\n",
    "                    coord[2],\n",
    "                    color[0],\n",
    "                    color[1],\n",
    "                    color[2]\n",
    "                    ))\n",
    "        else:\n",
    "            for coord in coords:\n",
    "                fw.write(\"%f %f %f\\n\" % (\n",
    "                    coord[0],\n",
    "                    coord[1],\n",
    "                    coord[2]\n",
    "                    ))\n",
    "        print('##### PLY model created #####')"
   ]
  },
  {
   "cell_type": "code",
   "execution_count": 17,
   "metadata": {},
   "outputs": [],
   "source": [
    "# read geojson and store in a dictionary\n",
    "with open('land.geojson') as f:\n",
    "    data = json.load(f)\n"
   ]
  },
  {
   "cell_type": "code",
   "execution_count": null,
   "metadata": {},
   "outputs": [],
   "source": [
    "# retrieve lon/lat from the dict"
   ]
  },
  {
   "cell_type": "code",
   "execution_count": 29,
   "metadata": {},
   "outputs": [],
   "source": [
    "features = data['features']\n",
    "\n",
    "# retrieve lons/lats from geojson\n",
    "lons = []\n",
    "lats = []\n",
    "for feature in features:\n",
    "    geometry = feature['geometry']\n",
    "    coord = geometry['coordinates']\n",
    "    lats.append(coord[0])\n",
    "    lons.append(coord[1])\n",
    "    \n",
    "    \n"
   ]
  },
  {
   "cell_type": "code",
   "execution_count": 30,
   "metadata": {},
   "outputs": [],
   "source": [
    "# store coords and colors for the model\n",
    "coords = []\n",
    "colors = []\n",
    "\n",
    "# write lists for land mask points\n",
    "coords.extend([ coords_conversion(lat, lon, 0) for lon, lat in zip(lons, lats) ]) \n",
    "colors.extend([ (192,192,192) for x in lats ])"
   ]
  },
  {
   "cell_type": "code",
   "execution_count": 31,
   "metadata": {},
   "outputs": [
    {
     "name": "stdout",
     "output_type": "stream",
     "text": [
      "##### PLY model created #####\n"
     ]
    }
   ],
   "source": [
    "# write model\n",
    "\n",
    "model('model_test1.ply')"
   ]
  },
  {
   "cell_type": "code",
   "execution_count": 32,
   "metadata": {},
   "outputs": [
    {
     "name": "stdout",
     "output_type": "stream",
     "text": [
      "geometry::PointCloud with 21116 points.\n"
     ]
    }
   ],
   "source": [
    "# read model\n",
    "\n",
    "PC = o3d.io.read_point_cloud('model_test1.ply')\n",
    "\n",
    "# check number of points\n",
    "print(PC)"
   ]
  },
  {
   "cell_type": "code",
   "execution_count": 33,
   "metadata": {},
   "outputs": [],
   "source": [
    "# display model\n",
    "o3d.visualization.draw_geometries([PC])"
   ]
  }
 ],
 "metadata": {
  "kernelspec": {
   "display_name": "Python 3",
   "language": "python",
   "name": "python3"
  },
  "language_info": {
   "codemirror_mode": {
    "name": "ipython",
    "version": 3
   },
   "file_extension": ".py",
   "mimetype": "text/x-python",
   "name": "python",
   "nbconvert_exporter": "python",
   "pygments_lexer": "ipython3",
   "version": "3.7.6"
  }
 },
 "nbformat": 4,
 "nbformat_minor": 4
}
