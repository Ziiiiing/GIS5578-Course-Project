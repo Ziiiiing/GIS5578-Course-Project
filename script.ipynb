{
 "cells": [
  {
   "cell_type": "markdown",
   "metadata": {},
   "source": [
    "# 3D Point Cloud Model of COVID-19"
   ]
  },
  {
   "cell_type": "markdown",
   "metadata": {},
   "source": [
    "This project will create a 3D point cloud visualization model of the COVID-19 pandemic. The model will focus on modeling the global spatial patterns along with the statistics of different types of live cases for each country by thousands or even millions of georeferenced points."
   ]
  },
  {
   "cell_type": "markdown",
   "metadata": {},
   "source": [
    "## PREPARATION"
   ]
  },
  {
   "cell_type": "markdown",
   "metadata": {},
   "source": [
    "Check python module/package installation. Uncomment the following code cell and run the specific `pip` statement first to install the missing python module/package if any module error occurs through `import` step."
   ]
  },
  {
   "cell_type": "code",
   "execution_count": null,
   "metadata": {},
   "outputs": [],
   "source": [
    "# pip install open3d"
   ]
  },
  {
   "cell_type": "code",
   "execution_count": 1,
   "metadata": {},
   "outputs": [],
   "source": [
    "import numpy as np\n",
    "import pandas as pd\n",
    "import geopandas as gpd\n",
    "import json\n",
    "import open3d as o3d\n",
    "import urllib\n",
    "import time\n",
    "import os\n",
    "from matplotlib import cm\n",
    "from math import cos, sin, pi\n",
    "from matplotlib import colors"
   ]
  },
  {
   "cell_type": "markdown",
   "metadata": {},
   "source": [
    "## STEP1: LAND MASK DATA"
   ]
  },
  {
   "cell_type": "markdown",
   "metadata": {},
   "source": [
    "#### Notice: \n",
    "The following code cells are commented because the local file `landmask.geojson` has already created so that you can literally jump this step rather than run it again. But you are welcomed to uncomment and try again if needed."
   ]
  },
  {
   "cell_type": "code",
   "execution_count": null,
   "metadata": {},
   "outputs": [],
   "source": [
    "# # create 1-D arrays for lon and lat\n",
    "# grid_lons = np.arange(-180, 180, 1)\n",
    "# grid_lats = np.arange(-90, 90, 1)\n",
    "# # cartesian product to pair each lon and lat\n",
    "# grid_coords = [[a, b] for a in grid_lons for b in grid_lats]"
   ]
  },
  {
   "cell_type": "code",
   "execution_count": null,
   "metadata": {},
   "outputs": [],
   "source": [
    "# # create a temporary dictionary for pandas dataframe\n",
    "# coords_lon = []\n",
    "# coords_lat = []\n",
    "# dict_temp = {'lon': coords_lon, 'lat': coords_lat}\n",
    "\n",
    "# for coord in grid_coords:\n",
    "#     coords_lon.append(coord[0])\n",
    "#     coords_lat.append(coord[1])"
   ]
  },
  {
   "cell_type": "code",
   "execution_count": null,
   "metadata": {},
   "outputs": [],
   "source": [
    "# points = pd.DataFrame.from_dict(dict_temp)\n",
    "# # generate the geometry from lon/lat columns\n",
    "# points = gpd.GeoDataFrame(points, geometry=gpd.points_from_xy(points.lon, points.lat))\n",
    "# polygons = gpd.read_file('World_Boundaries/World_Countries_(Generalized).shp')\n",
    "\n",
    "# # keep the same coordinate reference system\n",
    "# points = points.set_crs('EPSG:4326')\n",
    "# polygons = polygons.to_crs('EPSG:4326')"
   ]
  },
  {
   "cell_type": "code",
   "execution_count": null,
   "metadata": {},
   "outputs": [],
   "source": [
    "# # spatial join\n",
    "# land = gpd.sjoin(points, polygons, how='inner', op='intersects')\n",
    "# land = land.drop(columns=['lon', 'lat', 'index_right'])"
   ]
  },
  {
   "cell_type": "code",
   "execution_count": null,
   "metadata": {},
   "outputs": [],
   "source": [
    "# # write geojson\n",
    "# land.to_file('landmask.geojson', driver='GeoJSON')"
   ]
  },
  {
   "cell_type": "markdown",
   "metadata": {},
   "source": [
    "## STEP2: COVID-19 DATA"
   ]
  },
  {
   "cell_type": "markdown",
   "metadata": {},
   "source": [
    "#### Notice: \n",
    "The following code cells are commented because the local file `iso_coords.json` has already created so that you can literally jump this step rather than run it again. But you are welcomed to uncomment and try again if needed."
   ]
  },
  {
   "cell_type": "markdown",
   "metadata": {},
   "source": [
    "**2.1 extract existing countries' `ISO` and the corresponding `geometry` from the `landmask.geojson` file**"
   ]
  },
  {
   "cell_type": "code",
   "execution_count": null,
   "metadata": {},
   "outputs": [],
   "source": [
    "# # extract iso and coords value only\n",
    "# iso_coords = {}\n",
    "\n",
    "# with open('landmask.geojson', 'r') as f:\n",
    "#     data = json.load(f)\n",
    "    \n",
    "# features = data['features']\n",
    "\n",
    "# for feature in features:\n",
    "#     iso = feature['properties']['ISO']\n",
    "#     coords = feature['geometry']['coordinates']\n",
    "    \n",
    "#     # check key exist or not\n",
    "#     if iso not in iso_coords.keys():\n",
    "#         # initial key\n",
    "#         iso_coords[iso] = [coords]\n",
    "#     else:\n",
    "#         iso_coords[iso].append(coords)\n"
   ]
  },
  {
   "cell_type": "code",
   "execution_count": null,
   "metadata": {},
   "outputs": [],
   "source": [
    "# # write iso and coords value into local file\n",
    "# with open('iso_coords.json', 'w') as f:\n",
    "#     json.dump(iso_coords, f)"
   ]
  },
  {
   "cell_type": "markdown",
   "metadata": {},
   "source": [
    "**2.2 request available countries kept tracking on the COVID-19 API**"
   ]
  },
  {
   "cell_type": "code",
   "execution_count": null,
   "metadata": {},
   "outputs": [],
   "source": [
    "# # query all possible country names \n",
    "# url_countries = 'https://api.covid19api.com/countries'\n",
    "# response = urllib.request.urlopen(url_countries)\n",
    "# all_countries = json.loads(response.read())"
   ]
  },
  {
   "cell_type": "markdown",
   "metadata": {},
   "source": [
    "**2.3 extract existing countries' `slug` for requesting COVID-19 data by country**\n"
   ]
  },
  {
   "cell_type": "code",
   "execution_count": null,
   "metadata": {},
   "outputs": [],
   "source": [
    "# # extract iso-slug pairs for all existing countries\n",
    "# iso_slugs = {}\n",
    "\n",
    "# for i in range(len(all_countries)):\n",
    "#     iso = all_countries[i]['ISO2']\n",
    "#     if iso in iso_coords.keys():\n",
    "#         iso_slugs[iso] = all_countries[i]['Slug']"
   ]
  },
  {
   "cell_type": "markdown",
   "metadata": {},
   "source": [
    "**2.4 start requesting each country's COVID-19 data and store in local JSON file**\n"
   ]
  },
  {
   "cell_type": "code",
   "execution_count": null,
   "metadata": {},
   "outputs": [],
   "source": [
    "# # utc time rather than local time\n",
    "# action_date = time.strftime('%Y%m%d', time.gmtime())\n",
    "\n",
    "# # same request url part\n",
    "# request = 'https://api.covid19api.com/total/country/'"
   ]
  },
  {
   "cell_type": "code",
   "execution_count": null,
   "metadata": {
    "scrolled": true
   },
   "outputs": [],
   "source": [
    "# for iso, slug in iso_slugs.items():\n",
    "#     # request\n",
    "#     req = request + slug\n",
    "#     res = urllib.request.urlopen(req)\n",
    "#     data = json.loads(res.read())\n",
    "\n",
    "#     # modify geometry\n",
    "#     ## loop each dict in the list\n",
    "#     ## delete lat/lon/ keys\n",
    "#     ## copy and paste geometry from iso_coords dict\n",
    "#     for i in range(len(data)):\n",
    "#         # delete keys\n",
    "#         data[i].pop('CountryCode')\n",
    "#         data[i].pop('Province')\n",
    "#         data[i].pop('City')\n",
    "#         data[i].pop('CityCode')\n",
    "#         data[i].pop('Lat')\n",
    "#         data[i].pop('Lon')\n",
    "        \n",
    "#         # add keys\n",
    "#         data[i]['ISO'] = iso\n",
    "#         data[i]['Geometry'] = iso_coords[iso]\n",
    "\n",
    "#     # store locally\n",
    "#     filename = f'data_by_country/{slug}_{action_date}.json'\n",
    "#     with open(filename, 'w') as f:\n",
    "#         json.dump(data, f)\n"
   ]
  },
  {
   "cell_type": "markdown",
   "metadata": {},
   "source": [
    "## STEP3: MODEL DEVELOPMENT"
   ]
  },
  {
   "cell_type": "markdown",
   "metadata": {},
   "source": [
    "**3.1 read local covid-19 data for each country**"
   ]
  },
  {
   "cell_type": "code",
   "execution_count": null,
   "metadata": {},
   "outputs": [],
   "source": [
    "# coords with active cases for all countries\n",
    "covid_coords = []\n",
    "\n",
    "# loop over each country/file\n",
    "for file in os.listdir('data_by_country'):\n",
    "    with open(f'data_by_country/{file}', 'r') as f:\n",
    "        data = json.load(f)\n",
    "        \n",
    "        # extract latest date\n",
    "        # considering the empty list\n",
    "        if data:\n",
    "            latest_data = data[-1]\n",
    "            # extract coords and active\n",
    "            geom = latest_data['Geometry']\n",
    "            active = latest_data['Active']\n",
    "            for coords in geom:\n",
    "                coords.append(active)\n",
    "                covid_coords.append(coords)   "
   ]
  },
  {
   "cell_type": "markdown",
   "metadata": {},
   "source": [
    "**3.2 write 3D ply model**"
   ]
  },
  {
   "cell_type": "code",
   "execution_count": 3,
   "metadata": {},
   "outputs": [],
   "source": [
    "# Convert the coordinates from lon/lat to x/y/z.\n",
    "def coords_conversion(lon, lat, num):\n",
    "    ''' Convert the coordinates from lon/lat to x/y/z. '''\n",
    "    O = [0, 0, 0]   # center\n",
    "    R = 6400        # radius\n",
    "    S = 0.01        # scale\n",
    "    \n",
    "    \n",
    "    # calculate the radian of the sphere\n",
    "    rad_lat, rad_lon = lat * pi / 180, lon * pi / 180\n",
    "    \n",
    "    # calculate the cartesian coordiantes of each point\n",
    "    x = O[0] + S * R * cos(rad_lat) * cos(rad_lon)\n",
    "    y = O[1] + S * R * cos(rad_lat) * sin(rad_lon)\n",
    "    z = O[2] + S * R * sin(rad_lat)\n",
    "\n",
    "\n",
    "    return (x, y, z)"
   ]
  },
  {
   "cell_type": "code",
   "execution_count": 135,
   "metadata": {},
   "outputs": [],
   "source": [
    "def point_color(x, min_val, max_val):                                     \n",
    "    \n",
    "    # convert the input parameters from string to float\n",
    "    min_val = float(min_val)\n",
    "    max_val = float(max_val)\n",
    "    \n",
    "    # calculate the rank of the number\n",
    "    ratio = (x-min_val) / (max_val-min_val)\n",
    "    # calculate the value of color according to the ratio\n",
    "    cmap = cm.YlOrRd\n",
    "    rgb = cmap(int(ratio*255))\n",
    "    r = int(rgb[0]*255)\n",
    "    g = int(rgb[1]*255)\n",
    "    b = int(rgb[2]*255)\n",
    "\n",
    "    return (r, g, b)\n",
    "    print('##### EQ colored #####')"
   ]
  },
  {
   "cell_type": "code",
   "execution_count": 8,
   "metadata": {},
   "outputs": [],
   "source": [
    "# write ply file for 3D model.\n",
    "def model(path):\n",
    "    ''' write ply file for 3D model'''\n",
    "    with open(path, 'w') as fw:\n",
    "    # write headers with required format \n",
    "        fw.write('ply\\nformat ascii 1.0\\n')\n",
    "        fw.write('element vertex %d\\n' % len(model_coords))\n",
    "        fw.write('property float x\\n')\n",
    "        fw.write('property float y\\n')\n",
    "        fw.write('property float z\\n')\n",
    "\n",
    "        if len(model_colors) == len(model_coords):\n",
    "            fw.write('property uchar red\\n')\n",
    "            fw.write('property uchar green\\n')\n",
    "            fw.write('property uchar blue\\n')\n",
    "\n",
    "        fw.write('end_header\\n')\n",
    "        \n",
    "        # write data\n",
    "        if len(model_colors) == len(model_coords):\n",
    "            for coord, color in zip(model_coords, model_colors):\n",
    "                fw.write(\"%f %f %f %d %d %d\\n\" % (\n",
    "                    coord[0],\n",
    "                    coord[1],\n",
    "                    coord[2],\n",
    "                    color[0],\n",
    "                    color[1],\n",
    "                    color[2]\n",
    "                    ))\n",
    "        else:\n",
    "            for coord in model_coords:\n",
    "                fw.write(\"%f %f %f\\n\" % (\n",
    "                    coord[0],\n",
    "                    coord[1],\n",
    "                    coord[2]\n",
    "                    ))\n",
    "        print('##### PLY model created #####')\n"
   ]
  },
  {
   "cell_type": "code",
   "execution_count": 136,
   "metadata": {},
   "outputs": [
    {
     "name": "stdout",
     "output_type": "stream",
     "text": [
      "vmin: 0.0\n",
      "vmax: 1169803.0\n"
     ]
    }
   ],
   "source": [
    "# find vmin and vmax\n",
    "covid_coords_t = np.transpose(covid_coords)\n",
    "covid_active = covid_coords_t[2]\n",
    "\n",
    "max_active = np.amax(covid_active)\n",
    "min_active = np.amin(covid_active)\n",
    "\n",
    "q1 = np.percentile(covid_active, [25, 50, 75])[0]\n",
    "q2 = np.percentile(covid_active, [25, 50, 75])[1]\n",
    "q3 = np.percentile(covid_active, [25, 50, 75])[2]\n",
    "\n",
    "qr = q3 - q1\n",
    "\n",
    "# normal values\n",
    "nor_min = q1 - 1.5 * qr\n",
    "nor_max = q3 + 1.5 * qr\n",
    "\n",
    "\n",
    "# observation values\n",
    "if nor_min < np.amin(covid_active):\n",
    "    vmin = np.amin(covid_active)\n",
    "else:\n",
    "    vmin = nor_min\n",
    "\n",
    "if nor_max > np.amax(covid_active):\n",
    "    vmax = np.amax(covid_active)\n",
    "else:\n",
    "    vmax = nor_max\n"
   ]
  },
  {
   "cell_type": "code",
   "execution_count": 141,
   "metadata": {},
   "outputs": [],
   "source": [
    "model_coords = []\n",
    "model_colors = []\n",
    "\n",
    "# covid data\n",
    "model_coords.extend([ coords_conversion(lon, lat, 0) for lon, lat, num in covid_coords ])\n",
    "model_colors.extend([ point_color(num, vmin, vmax) for lon, lat, num in covid_coords ])\n",
    "\n",
    "model('model.ply')"
   ]
  },
  {
   "cell_type": "markdown",
   "metadata": {},
   "source": [
    "**3.3 display 3D model**"
   ]
  },
  {
   "cell_type": "code",
   "execution_count": 145,
   "metadata": {},
   "outputs": [],
   "source": [
    "# read and display model\n",
    "PC = o3d.io.read_point_cloud('model.ply')\n",
    "o3d.visualization.draw_geometries([PC])"
   ]
  }
 ],
 "metadata": {
  "kernelspec": {
   "display_name": "Python 3",
   "language": "python",
   "name": "python3"
  },
  "language_info": {
   "codemirror_mode": {
    "name": "ipython",
    "version": 3
   },
   "file_extension": ".py",
   "mimetype": "text/x-python",
   "name": "python",
   "nbconvert_exporter": "python",
   "pygments_lexer": "ipython3",
   "version": "3.7.6"
  }
 },
 "nbformat": 4,
 "nbformat_minor": 4
}
