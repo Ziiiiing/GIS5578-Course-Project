{
 "cells": [
  {
   "cell_type": "markdown",
   "metadata": {},
   "source": [
    "# 3D Point Cloud Model of COVID-19"
   ]
  },
  {
   "cell_type": "markdown",
   "metadata": {},
   "source": [
    "This project will create a 3D point cloud visualization model of the COVID-19 pandemic. The model will focus on modeling the global spatial patterns along with the statistics of different types of live cases for each country by thousands or even millions of georeferenced points."
   ]
  },
  {
   "cell_type": "markdown",
   "metadata": {},
   "source": [
    "### Preparation"
   ]
  },
  {
   "cell_type": "markdown",
   "metadata": {},
   "source": [
    "Check module installation. Uncomment the following code cells and run the specific pip statement first to install the missing python module if any module error occurs through `import`."
   ]
  },
  {
   "cell_type": "code",
   "execution_count": null,
   "metadata": {},
   "outputs": [],
   "source": [
    "# pip install open3d"
   ]
  },
  {
   "cell_type": "code",
   "execution_count": null,
   "metadata": {},
   "outputs": [],
   "source": [
    "# pip install geopandas"
   ]
  },
  {
   "cell_type": "code",
   "execution_count": 1,
   "metadata": {},
   "outputs": [],
   "source": [
    "import numpy as np\n",
    "import pandas as pd\n",
    "import geopandas as gpd\n",
    "import json\n",
    "from math import cos, sin, pi\n",
    "import open3d as o3d"
   ]
  },
  {
   "cell_type": "markdown",
   "metadata": {},
   "source": [
    "## Step 1: Land Mask Data"
   ]
  },
  {
   "cell_type": "code",
   "execution_count": 2,
   "metadata": {},
   "outputs": [],
   "source": [
    "# create 1-D arrays for lon and lat\n",
    "grid_lons = np.arange(-180, 180, 1)\n",
    "grid_lats = np.arange(-90, 90, 1)\n",
    "# cartesian product to pair each lon and lat\n",
    "grid_coords = [[a, b] for a in grid_lons for b in grid_lats]"
   ]
  },
  {
   "cell_type": "code",
   "execution_count": 3,
   "metadata": {},
   "outputs": [],
   "source": [
    "# create a temporary dictionary for pandas dataframe\n",
    "coords_lon = []\n",
    "coords_lat = []\n",
    "dict_temp = {'lon': coords_lon, 'lat': coords_lat}\n",
    "\n",
    "for coord in grid_coords:\n",
    "    coords_lon.append(coord[0])\n",
    "    coords_lat.append(coord[1])"
   ]
  },
  {
   "cell_type": "code",
   "execution_count": 4,
   "metadata": {},
   "outputs": [],
   "source": [
    "points = pd.DataFrame.from_dict(dict_temp)\n",
    "# generate the geometry from lon/lat columns\n",
    "points = gpd.GeoDataFrame(points, geometry=gpd.points_from_xy(points.lon, points.lat))\n",
    "polygons = gpd.read_file('World_Boundaries/World_Countries_(Generalized).shp')\n",
    "\n",
    "# keep the same coordinate reference system\n",
    "points = points.set_crs('EPSG:4326')\n",
    "polygons = polygons.to_crs('EPSG:4326')\n"
   ]
  },
  {
   "cell_type": "code",
   "execution_count": 6,
   "metadata": {},
   "outputs": [],
   "source": [
    "# spatial join\n",
    "land = gpd.sjoin(points, polygons, how='inner', op='intersects')\n",
    "land = land.drop(columns=['lon', 'lat', 'index_right'])"
   ]
  },
  {
   "cell_type": "code",
   "execution_count": 8,
   "metadata": {},
   "outputs": [],
   "source": [
    "# write geojson\n",
    "land.to_file('landmask.geojson', driver='GeoJSON')"
   ]
  },
  {
   "cell_type": "markdown",
   "metadata": {},
   "source": [
    "## Step 2: COVID-19 Data"
   ]
  },
  {
   "cell_type": "code",
   "execution_count": null,
   "metadata": {},
   "outputs": [],
   "source": []
  },
  {
   "cell_type": "code",
   "execution_count": null,
   "metadata": {},
   "outputs": [],
   "source": []
  },
  {
   "cell_type": "markdown",
   "metadata": {},
   "source": [
    "## Step 3: Model Development"
   ]
  },
  {
   "cell_type": "code",
   "execution_count": 13,
   "metadata": {},
   "outputs": [],
   "source": [
    "# Convert the coordinates from lon/lat to x/y/z.\n",
    "def coords_conversion(lon, lat, num):\n",
    "    ''' Convert the coordinates from lon/lat to x/y/z. '''\n",
    "    O = [0, 0, 0]   # center\n",
    "    R = 6400        # radius\n",
    "    S = 0.01        # scale\n",
    "    \n",
    "    # calculate the radian of the sphere\n",
    "    rad_lat, rad_lon = lat * pi / 180, lon * pi / 180\n",
    "    \n",
    "    # calculate the cartesian coordiantes of each point\n",
    "    x = O[0] + S * R * cos(rad_lat) * cos(rad_lon)\n",
    "    y = O[1] + S * R * cos(rad_lat) * sin(rad_lon)\n",
    "    z = O[2] + S * R * sin(rad_lat)\n",
    "\n",
    "    return (x, y, z)"
   ]
  },
  {
   "cell_type": "code",
   "execution_count": 14,
   "metadata": {},
   "outputs": [],
   "source": [
    "# write ply file for 3D model.\n",
    "def model(path):\n",
    "    ''' write ply file for 3D model'''\n",
    "    with open(path, 'w') as fw:\n",
    "    # write headers with required format \n",
    "        fw.write('ply\\nformat ascii 1.0\\n')\n",
    "        fw.write('element vertex %d\\n' % len(coords))\n",
    "        fw.write('property float x\\n')\n",
    "        fw.write('property float y\\n')\n",
    "        fw.write('property float z\\n')\n",
    "\n",
    "        if len(colors) == len(coords):\n",
    "            fw.write('property uchar red\\n')\n",
    "            fw.write('property uchar green\\n')\n",
    "            fw.write('property uchar blue\\n')\n",
    "\n",
    "        fw.write('end_header\\n')\n",
    "        \n",
    "        # write data\n",
    "        if len(colors) == len(coords):\n",
    "            for coord, color in zip(coords, colors):\n",
    "                fw.write(\"%f %f %f %d %d %d\\n\" % (\n",
    "                    coord[0],\n",
    "                    coord[1],\n",
    "                    coord[2],\n",
    "                    color[0],\n",
    "                    color[1],\n",
    "                    color[2]\n",
    "                    ))\n",
    "        else:\n",
    "            for coord in coords:\n",
    "                fw.write(\"%f %f %f\\n\" % (\n",
    "                    coord[0],\n",
    "                    coord[1],\n",
    "                    coord[2]\n",
    "                    ))\n",
    "        print('##### PLY model created #####')\n"
   ]
  },
  {
   "cell_type": "code",
   "execution_count": 15,
   "metadata": {},
   "outputs": [],
   "source": [
    "# read geojson and store in the variable 'data'\n",
    "with open('landmask.geojson') as f:\n",
    "    data = json.load(f)\n",
    "    \n",
    "# extract values of the 'features' key\n",
    "features = data['features']\n",
    "\n",
    "## retrieve lons/lats from each feature\n",
    "lons = []\n",
    "lats = []\n",
    "for feature in features:\n",
    "    geometry = feature['geometry']\n",
    "    coord = geometry['coordinates']\n",
    "    lats.append(coord[0])\n",
    "    lons.append(coord[1])"
   ]
  },
  {
   "cell_type": "code",
   "execution_count": 16,
   "metadata": {},
   "outputs": [],
   "source": [
    "coords = []\n",
    "colors = []\n",
    "\n",
    "# store coord and color for each point\n",
    "coords.extend([ coords_conversion(lat, lon, 0) for lon, lat in zip(lons, lats) ]) \n",
    "colors.extend([ (192,192,192) for x in lats ])"
   ]
  },
  {
   "cell_type": "code",
   "execution_count": 17,
   "metadata": {},
   "outputs": [
    {
     "name": "stdout",
     "output_type": "stream",
     "text": [
      "##### PLY model created #####\n"
     ]
    }
   ],
   "source": [
    "# create land(base) model\n",
    "model('model_ipynb.ply')"
   ]
  },
  {
   "cell_type": "code",
   "execution_count": 18,
   "metadata": {},
   "outputs": [],
   "source": [
    "# read and display model\n",
    "PC = o3d.io.read_point_cloud('model_ipynb.ply')\n",
    "o3d.visualization.draw_geometries([PC])"
   ]
  },
  {
   "cell_type": "markdown",
   "metadata": {},
   "source": [
    "## Step 4: Model Advanced Properties"
   ]
  },
  {
   "cell_type": "code",
   "execution_count": null,
   "metadata": {},
   "outputs": [],
   "source": []
  },
  {
   "cell_type": "code",
   "execution_count": null,
   "metadata": {},
   "outputs": [],
   "source": []
  }
 ],
 "metadata": {
  "kernelspec": {
   "display_name": "Python 3",
   "language": "python",
   "name": "python3"
  },
  "language_info": {
   "codemirror_mode": {
    "name": "ipython",
    "version": 3
   },
   "file_extension": ".py",
   "mimetype": "text/x-python",
   "name": "python",
   "nbconvert_exporter": "python",
   "pygments_lexer": "ipython3",
   "version": "3.7.6"
  }
 },
 "nbformat": 4,
 "nbformat_minor": 4
}
